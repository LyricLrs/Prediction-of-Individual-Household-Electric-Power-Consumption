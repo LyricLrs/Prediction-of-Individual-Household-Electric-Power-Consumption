{
 "cells": [
  {
   "cell_type": "code",
   "execution_count": 44,
   "metadata": {},
   "outputs": [],
   "source": [
    "import pandas as pd\n",
    "import matplotlib.pyplot as plt\n",
    "import numpy as np\n",
    "\n",
    "import tensorflow as tf\n",
    "import keras\n",
    "from sklearn.preprocessing import MinMaxScaler\n",
    "from keras.models import Sequential\n",
    "from keras.layers import LSTM, Dense\n",
    "from sklearn.metrics import mean_squared_error"
   ]
  },
  {
   "cell_type": "code",
   "execution_count": 45,
   "metadata": {},
   "outputs": [],
   "source": [
    "df =  pd.read_csv('2yrs_data.csv')"
   ]
  },
  {
   "cell_type": "code",
   "execution_count": 46,
   "metadata": {},
   "outputs": [],
   "source": [
    "df['Datetime'] = pd.to_datetime(df['Date'] + ' ' + df['Time'])\n",
    "df = df.sort_values('Datetime')\n",
    "data = df['Global_active_power'].values.reshape(-1, 1)"
   ]
  },
  {
   "cell_type": "code",
   "execution_count": 47,
   "metadata": {},
   "outputs": [],
   "source": [
    "scaler = MinMaxScaler(feature_range=(0, 1))\n",
    "data_scaled = scaler.fit_transform(data)"
   ]
  },
  {
   "cell_type": "code",
   "execution_count": 48,
   "metadata": {},
   "outputs": [],
   "source": [
    "\n",
    "class MultiStepTimeSeriesGenerator():\n",
    "    \"\"\"\n",
    "    Copied and edited from https://www.tensorflow.org/tutorials/structured_data/time_series\n",
    "    \"\"\"\n",
    "    def __init__(self, \n",
    "                 input_width, \n",
    "                 label_width, \n",
    "                 shift,\n",
    "                 df,\n",
    "                 batch_size):\n",
    "\n",
    "        # Work out the window parameters.\n",
    "        self.input_width       = input_width\n",
    "        self.label_width       = label_width\n",
    "        self.shift             = shift\n",
    "        self.batch_size        = batch_size\n",
    "        self.total_window_size = input_width + label_width\n",
    "        self.input_slice       = slice(0, input_width)\n",
    "        self.labels_slice      = slice(self.total_window_size - self.label_width, None)\n",
    "        \n",
    "        # Preprocess the raw data into datasets\n",
    "        val_split = 0.2\n",
    "        self.train_df = df[0:int((len(df)-N_STEPS_OUT)*(1-val_split))]\n",
    "        self.val_df = df[int((len(df)-N_STEPS_OUT)*(1-val_split))-N_STEPS_IN:-N_STEPS_OUT]\n",
    "        self.test_df = df[-(N_STEPS_IN + N_STEPS_OUT):]\n",
    "\n",
    "        self.train = self.make_dataset(self.train_df)\n",
    "        self.val   = self.make_dataset(self.val_df)\n",
    "        self.test  = self.make_dataset(self.test_df)\n",
    "\n",
    "    def split_window(self, features):\n",
    "        inputs = features[:, self.input_slice, :]\n",
    "        labels = features[:, self.labels_slice, :]\n",
    "\n",
    "        labels = tf.stack([labels[:, :, 0]], axis = -1)\n",
    "    \n",
    "        # Slicing doesn't preserve static shape information, so set the shapes\n",
    "        # manually. This way the `tf.data.Datasets` are easier to inspect.\n",
    "        inputs.set_shape([None, self.input_width, None])\n",
    "        labels.set_shape([None, self.label_width, None])\n",
    "\n",
    "        return inputs, labels\n",
    "\n",
    "    def make_dataset(self, data):\n",
    "        data = np.array(data, dtype = np.float32)\n",
    "        ds = tf.keras.utils.timeseries_dataset_from_array(data            = data,\n",
    "                                                          targets         = None,\n",
    "                                                          sequence_length = self.total_window_size,\n",
    "                                                          sequence_stride = 1,\n",
    "                                                          shuffle         = False,\n",
    "                                                          batch_size      = self.batch_size)\n",
    "\n",
    "        ds = ds.map(self.split_window)\n",
    "\n",
    "        return ds\n",
    "\n"
   ]
  },
  {
   "cell_type": "code",
   "execution_count": 49,
   "metadata": {},
   "outputs": [],
   "source": [
    "N_STEPS_IN = 24\n",
    "N_STEPS_OUT = 24\n",
    "N_EPOCHS = 20   \n",
    "BATCH_SIZE = 64\n",
    "time_series_dataset = MultiStepTimeSeriesGenerator(input_width = N_STEPS_IN, \n",
    "                                                   label_width = N_STEPS_OUT, \n",
    "                                                   shift       = 1, \n",
    "                                                   df          = data_scaled, \n",
    "                                                   batch_size  = BATCH_SIZE)"
   ]
  },
  {
   "cell_type": "code",
   "execution_count": 50,
   "metadata": {},
   "outputs": [],
   "source": [
    "def plot_loss_and_predictions(y_pred, history, n_epochs, feature_df):\n",
    "    fig, ax = plt.subplots(2, 1, figsize=(12, 10))\n",
    "\n",
    "    # Plot training/validation loss\n",
    "    ax[0].plot(history.history['loss'], label='Training Loss')\n",
    "    ax[0].plot(history.history['val_loss'], label='Validation Loss')\n",
    "    ax[0].set_title('Loss Curve')\n",
    "    ax[0].set_xlabel('Epochs')\n",
    "    ax[0].set_ylabel('Loss')\n",
    "    ax[0].legend()\n",
    "\n",
    "    # Plot predictions against actual values\n",
    "    y_actual = feature_df[-len(y_pred):]  # Match size of predictions\n",
    "    ax[1].plot(y_actual.index, y_actual.values, label='Actual', color='blue')\n",
    "    ax[1].plot(y_actual.index, y_pred.reshape(-1), label='Predicted', color='red')\n",
    "    ax[1].set_title('Predictions vs Actual')\n",
    "    ax[1].set_xlabel('Time')\n",
    "    ax[1].set_ylabel('Value')\n",
    "    ax[1].legend()\n",
    "\n",
    "    plt.tight_layout()\n",
    "    plt.show()\n",
    "    return ax\n",
    "\n",
    "def evaluate_baseline(model, df, n_epochs = N_EPOCHS, verbose = 0):\n",
    "    # Compile model\n",
    "    model.compile(loss      = tf.losses.MeanSquaredError(),\n",
    "                  optimizer = tf.optimizers.Adam(),\n",
    "                  metrics   = [tf.metrics.MeanAbsoluteError()])\n",
    "    \n",
    "    # Create datasets from dataframe\n",
    "    time_series_dataset = MultiStepTimeSeriesGenerator(input_width = N_STEPS_IN, \n",
    "                                              label_width = N_STEPS_OUT, \n",
    "                                              shift       = 1, \n",
    "                                              df          = df, \n",
    "                                              batch_size  = BATCH_SIZE)\n",
    "\n",
    "    # Train model\n",
    "    history = model.fit(time_series_dataset.train, \n",
    "                        validation_data = time_series_dataset.val,\n",
    "                        epochs          = n_epochs,\n",
    "                        batch_size      = BATCH_SIZE, \n",
    "                        verbose         = verbose, \n",
    "                        callbacks       = tf.keras.callbacks.EarlyStopping(monitor = 'val_loss', \n",
    "                                                                           patience = 4),\n",
    "                        shuffle         = False)\n",
    "\n",
    "    # Make predictions on test set\n",
    "    y_pred = model.predict(time_series_dataset.test, verbose=0)\n",
    "    test_score = mean_squared_error(list(time_series_dataset.test.as_numpy_iterator())[0][1][0], y_pred.reshape(-1))\n",
    "    test_score = np.round(test_score, 5)\n",
    "    \n",
    "    # Plot predictions\n",
    "    ax = plot_loss_and_predictions(y_pred, history, n_epochs, df[['feature']])\n",
    "\n",
    "    return test_score, ax\n",
    "\n"
   ]
  },
  {
   "cell_type": "code",
   "execution_count": 51,
   "metadata": {},
   "outputs": [
    {
     "name": "stdout",
     "output_type": "stream",
     "text": [
      "Epoch 1/20\n"
     ]
    },
    {
     "name": "stderr",
     "output_type": "stream",
     "text": [
      "/opt/anaconda3/lib/python3.12/site-packages/keras/src/layers/rnn/rnn.py:204: UserWarning: Do not pass an `input_shape`/`input_dim` argument to a layer. When using Sequential models, prefer using an `Input(shape)` object as the first layer in the model instead.\n",
      "  super().__init__(**kwargs)\n"
     ]
    },
    {
     "name": "stdout",
     "output_type": "stream",
     "text": [
      "\u001b[1m13382/13382\u001b[0m \u001b[32m━━━━━━━━━━━━━━━━━━━━\u001b[0m\u001b[37m\u001b[0m \u001b[1m113s\u001b[0m 8ms/step - loss: 0.0061 - mean_absolute_error: 0.0458 - val_loss: 0.0037 - val_mean_absolute_error: 0.0380\n",
      "Epoch 2/20\n",
      "\u001b[1m13382/13382\u001b[0m \u001b[32m━━━━━━━━━━━━━━━━━━━━\u001b[0m\u001b[37m\u001b[0m \u001b[1m134s\u001b[0m 10ms/step - loss: 0.0046 - mean_absolute_error: 0.0380 - val_loss: 0.0035 - val_mean_absolute_error: 0.0358\n",
      "Epoch 3/20\n",
      "\u001b[1m13382/13382\u001b[0m \u001b[32m━━━━━━━━━━━━━━━━━━━━\u001b[0m\u001b[37m\u001b[0m \u001b[1m128s\u001b[0m 10ms/step - loss: 0.0045 - mean_absolute_error: 0.0375 - val_loss: 0.0034 - val_mean_absolute_error: 0.0349\n",
      "Epoch 4/20\n",
      "\u001b[1m13382/13382\u001b[0m \u001b[32m━━━━━━━━━━━━━━━━━━━━\u001b[0m\u001b[37m\u001b[0m \u001b[1m132s\u001b[0m 10ms/step - loss: 0.0044 - mean_absolute_error: 0.0372 - val_loss: 0.0034 - val_mean_absolute_error: 0.0347\n",
      "Epoch 5/20\n",
      "\u001b[1m13382/13382\u001b[0m \u001b[32m━━━━━━━━━━━━━━━━━━━━\u001b[0m\u001b[37m\u001b[0m \u001b[1m131s\u001b[0m 10ms/step - loss: 0.0044 - mean_absolute_error: 0.0369 - val_loss: 0.0034 - val_mean_absolute_error: 0.0347\n",
      "Epoch 6/20\n",
      "\u001b[1m13382/13382\u001b[0m \u001b[32m━━━━━━━━━━━━━━━━━━━━\u001b[0m\u001b[37m\u001b[0m \u001b[1m130s\u001b[0m 10ms/step - loss: 0.0043 - mean_absolute_error: 0.0367 - val_loss: 0.0034 - val_mean_absolute_error: 0.0345\n",
      "Epoch 7/20\n",
      "\u001b[1m13382/13382\u001b[0m \u001b[32m━━━━━━━━━━━━━━━━━━━━\u001b[0m\u001b[37m\u001b[0m \u001b[1m140s\u001b[0m 10ms/step - loss: 0.0043 - mean_absolute_error: 0.0366 - val_loss: 0.0034 - val_mean_absolute_error: 0.0346\n",
      "Epoch 8/20\n",
      "\u001b[1m13382/13382\u001b[0m \u001b[32m━━━━━━━━━━━━━━━━━━━━\u001b[0m\u001b[37m\u001b[0m \u001b[1m142s\u001b[0m 11ms/step - loss: 0.0043 - mean_absolute_error: 0.0364 - val_loss: 0.0034 - val_mean_absolute_error: 0.0344\n",
      "Epoch 9/20\n",
      "\u001b[1m13382/13382\u001b[0m \u001b[32m━━━━━━━━━━━━━━━━━━━━\u001b[0m\u001b[37m\u001b[0m \u001b[1m139s\u001b[0m 10ms/step - loss: 0.0043 - mean_absolute_error: 0.0363 - val_loss: 0.0034 - val_mean_absolute_error: 0.0346\n",
      "Epoch 10/20\n",
      "\u001b[1m13382/13382\u001b[0m \u001b[32m━━━━━━━━━━━━━━━━━━━━\u001b[0m\u001b[37m\u001b[0m \u001b[1m146s\u001b[0m 11ms/step - loss: 0.0043 - mean_absolute_error: 0.0362 - val_loss: 0.0034 - val_mean_absolute_error: 0.0342\n",
      "Epoch 11/20\n",
      "\u001b[1m13382/13382\u001b[0m \u001b[32m━━━━━━━━━━━━━━━━━━━━\u001b[0m\u001b[37m\u001b[0m \u001b[1m147s\u001b[0m 11ms/step - loss: 0.0042 - mean_absolute_error: 0.0361 - val_loss: 0.0033 - val_mean_absolute_error: 0.0339\n",
      "Epoch 12/20\n",
      "\u001b[1m13382/13382\u001b[0m \u001b[32m━━━━━━━━━━━━━━━━━━━━\u001b[0m\u001b[37m\u001b[0m \u001b[1m148s\u001b[0m 11ms/step - loss: 0.0042 - mean_absolute_error: 0.0361 - val_loss: 0.0033 - val_mean_absolute_error: 0.0335\n",
      "Epoch 13/20\n",
      "\u001b[1m13382/13382\u001b[0m \u001b[32m━━━━━━━━━━━━━━━━━━━━\u001b[0m\u001b[37m\u001b[0m \u001b[1m148s\u001b[0m 11ms/step - loss: 0.0042 - mean_absolute_error: 0.0360 - val_loss: 0.0033 - val_mean_absolute_error: 0.0332\n",
      "Epoch 14/20\n",
      "\u001b[1m13382/13382\u001b[0m \u001b[32m━━━━━━━━━━━━━━━━━━━━\u001b[0m\u001b[37m\u001b[0m \u001b[1m159s\u001b[0m 12ms/step - loss: 0.0042 - mean_absolute_error: 0.0360 - val_loss: 0.0033 - val_mean_absolute_error: 0.0331\n",
      "Epoch 15/20\n",
      "\u001b[1m13382/13382\u001b[0m \u001b[32m━━━━━━━━━━━━━━━━━━━━\u001b[0m\u001b[37m\u001b[0m \u001b[1m144s\u001b[0m 11ms/step - loss: 0.0042 - mean_absolute_error: 0.0359 - val_loss: 0.0033 - val_mean_absolute_error: 0.0330\n",
      "Epoch 16/20\n",
      "\u001b[1m13382/13382\u001b[0m \u001b[32m━━━━━━━━━━━━━━━━━━━━\u001b[0m\u001b[37m\u001b[0m \u001b[1m146s\u001b[0m 11ms/step - loss: 0.0042 - mean_absolute_error: 0.0359 - val_loss: 0.0033 - val_mean_absolute_error: 0.0329\n",
      "Epoch 17/20\n",
      "\u001b[1m13382/13382\u001b[0m \u001b[32m━━━━━━━━━━━━━━━━━━━━\u001b[0m\u001b[37m\u001b[0m \u001b[1m145s\u001b[0m 11ms/step - loss: 0.0042 - mean_absolute_error: 0.0359 - val_loss: 0.0033 - val_mean_absolute_error: 0.0329\n",
      "Epoch 18/20\n",
      "\u001b[1m13382/13382\u001b[0m \u001b[32m━━━━━━━━━━━━━━━━━━━━\u001b[0m\u001b[37m\u001b[0m \u001b[1m149s\u001b[0m 11ms/step - loss: 0.0042 - mean_absolute_error: 0.0358 - val_loss: 0.0033 - val_mean_absolute_error: 0.0327\n",
      "Epoch 19/20\n",
      "\u001b[1m13382/13382\u001b[0m \u001b[32m━━━━━━━━━━━━━━━━━━━━\u001b[0m\u001b[37m\u001b[0m \u001b[1m149s\u001b[0m 11ms/step - loss: 0.0042 - mean_absolute_error: 0.0358 - val_loss: 0.0033 - val_mean_absolute_error: 0.0328\n",
      "Epoch 20/20\n",
      "\u001b[1m13382/13382\u001b[0m \u001b[32m━━━━━━━━━━━━━━━━━━━━\u001b[0m\u001b[37m\u001b[0m \u001b[1m154s\u001b[0m 11ms/step - loss: 0.0042 - mean_absolute_error: 0.0358 - val_loss: 0.0033 - val_mean_absolute_error: 0.0328\n",
      "Test Mean Squared Error: 0.0004199999966658652\n"
     ]
    },
    {
     "name": "stderr",
     "output_type": "stream",
     "text": [
      "2024-11-23 18:53:58.759143: I tensorflow/core/framework/local_rendezvous.cc:404] Local rendezvous is aborting with status: OUT_OF_RANGE: End of sequence\n"
     ]
    }
   ],
   "source": [
    "model = Sequential([\n",
    "    LSTM(64, activation='relu', return_sequences=True, input_shape=(N_STEPS_IN, 1)),\n",
    "    LSTM(32, activation='relu'),\n",
    "    Dense(N_STEPS_OUT) \n",
    "])\n",
    "\n",
    "# Compile model\n",
    "model.compile(loss      = tf.losses.MeanSquaredError(),\n",
    "              optimizer = tf.optimizers.Adam(),\n",
    "              metrics   = [tf.metrics.MeanAbsoluteError()])\n",
    "\n",
    "# Create datasets from dataframe\n",
    "time_series_dataset = MultiStepTimeSeriesGenerator(input_width = N_STEPS_IN, \n",
    "                                          label_width = N_STEPS_OUT, \n",
    "                                          shift       = 1, \n",
    "                                          df          = data_scaled, \n",
    "                                          batch_size  = BATCH_SIZE)\n",
    "# Train model\n",
    "history = model.fit(time_series_dataset.train, \n",
    "                    validation_data = time_series_dataset.val,\n",
    "                    epochs          = N_EPOCHS,\n",
    "                    batch_size      = BATCH_SIZE, \n",
    "                    verbose         = 1, \n",
    "                    callbacks       = tf.keras.callbacks.EarlyStopping(monitor = 'val_loss', \n",
    "                                                                       patience = 4),\n",
    "                    shuffle         = False)\n",
    "\n",
    "# Make predictions on test set\n",
    "y_pred = model.predict(time_series_dataset.test, verbose=0)\n",
    "test_score = mean_squared_error(list(time_series_dataset.test.as_numpy_iterator())[0][1][0], y_pred.reshape(-1))\n",
    "test_score = np.round(test_score, 5)\n",
    "\n",
    "print(f\"Test Mean Squared Error: {test_score}\")"
   ]
  },
  {
   "cell_type": "code",
   "execution_count": 52,
   "metadata": {},
   "outputs": [
    {
     "data": {
      "image/png": "[encoded data removed]",
      "text/plain": [
       "<Figure size 1000x600 with 1 Axes>"
      ]
     },
     "metadata": {},
     "output_type": "display_data"
    }
   ],
   "source": [
    "# Extract training and validation loss\n",
    "loss = history.history['loss']\n",
    "val_loss = history.history['val_loss']\n",
    "\n",
    "# Plot the losses\n",
    "plt.figure(figsize=(10, 6))\n",
    "plt.plot(loss, label='Training Loss')\n",
    "plt.plot(val_loss, label='Validation Loss')\n",
    "plt.title('Training Process')\n",
    "plt.xlabel('Epochs')\n",
    "plt.ylabel('Loss')\n",
    "plt.legend()\n",
    "plt.grid(True)\n",
    "plt.show()\n"
   ]
  },
  {
   "cell_type": "code",
   "execution_count": null,
   "metadata": {},
   "outputs": [],
   "source": []
  },
  {
   "cell_type": "code",
   "execution_count": null,
   "metadata": {},
   "outputs": [],
   "source": []
  }
 ],
 "metadata": {
  "kernelspec": {
   "display_name": "Python 3 (ipykernel)",
   "language": "python",
   "name": "python3"
  },
  "language_info": {
   "codemirror_mode": {
    "name": "ipython",
    "version": 3
   },
   "file_extension": ".py",
   "mimetype": "text/x-python",
   "name": "python",
   "nbconvert_exporter": "python",
   "pygments_lexer": "ipython3",
   "version": "3.12.4"
  }
 },
 "nbformat": 4,
 "nbformat_minor": 4
}
